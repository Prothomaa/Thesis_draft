{
 "cells": [
  {
   "cell_type": "code",
   "execution_count": 1,
   "id": "182313f5",
   "metadata": {},
   "outputs": [
    {
     "name": "stdout",
     "output_type": "stream",
     "text": [
      "I PRON nsubj\n",
      "love VERB ROOT\n",
      "using VERB xcomp\n",
      "spaCy NOUN dobj\n",
      "for ADP prep\n",
      "natural ADJ amod\n",
      "language NOUN compound\n",
      "processing NOUN pobj\n",
      ". PUNCT punct\n"
     ]
    }
   ],
   "source": [
    "import spacy\n",
    "\n",
    "# Load the English language model \"en_core_web_sm\"\n",
    "nlp = spacy.load(\"en_core_web_sm\")\n",
    "\n",
    "# Example text\n",
    "text = \"I love using spaCy for natural language processing.\"\n",
    "\n",
    "# Process the text using the loaded model\n",
    "doc = nlp(text)\n",
    "\n",
    "# Access various linguistic features in the processed document\n",
    "for token in doc:\n",
    "    print(token.text, token.pos_, token.dep_)\n"
   ]
  },
  {
   "cell_type": "code",
   "execution_count": null,
   "id": "ba3b4a10",
   "metadata": {},
   "outputs": [],
   "source": []
  }
 ],
 "metadata": {
  "kernelspec": {
   "display_name": "Python 3 (ipykernel)",
   "language": "python",
   "name": "python3"
  },
  "language_info": {
   "codemirror_mode": {
    "name": "ipython",
    "version": 3
   },
   "file_extension": ".py",
   "mimetype": "text/x-python",
   "name": "python",
   "nbconvert_exporter": "python",
   "pygments_lexer": "ipython3",
   "version": "3.10.4"
  }
 },
 "nbformat": 4,
 "nbformat_minor": 5
}
