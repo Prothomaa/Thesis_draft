{
 "cells": [
  {
   "cell_type": "code",
   "execution_count": 1,
   "id": "cf3c4439",
   "metadata": {},
   "outputs": [
    {
     "name": "stdout",
     "output_type": "stream",
     "text": [
      "Most likely POS sequence: ['Adjective', 'Verb', 'Adjective', 'Verb']\n",
      "Maximum probability: 0.001296\n"
     ]
    }
   ],
   "source": [
    "def viterbi(obs, states, start_prob, trans_prob, emit_prob):\n",
    "    V = [{}]\n",
    "    path = {}\n",
    "\n",
    "    # Initialize base cases (t == 0)\n",
    "    for st in states:\n",
    "        V[0][st] = start_prob[st] * emit_prob[st].get(obs[0], 0)\n",
    "        path[st] = [st]\n",
    "\n",
    "    # Run Viterbi for t > 0\n",
    "    for t in range(1, len(obs)):\n",
    "        V.append({})\n",
    "        new_path = {}\n",
    "\n",
    "        for current_state in states:\n",
    "            max_prob = max(V[t - 1][prev_state] * trans_prob[prev_state].get(current_state, 0) * emit_prob[current_state].get(obs[t], 0) for prev_state in states)\n",
    "\n",
    "            for prev_state in states:\n",
    "                if V[t - 1][prev_state] * trans_prob[prev_state].get(current_state, 0) * emit_prob[current_state].get(obs[t], 0) == max_prob:\n",
    "                    V[t][current_state] = max_prob\n",
    "                    new_path[current_state] = path[prev_state] + [current_state]\n",
    "                    break\n",
    "\n",
    "        path = new_path\n",
    "\n",
    "    # Find the sequence with the maximum probability\n",
    "    max_prob = max(V[-1][st] for st in states)\n",
    "    for state in states:\n",
    "        if V[-1][state] == max_prob:\n",
    "            return path[state], max_prob\n",
    "\n",
    "# Example usage:\n",
    "# Define HMM parameters (transition, emission, initial probabilities)\n",
    "# Replace these dictionaries with your own trained probabilities\n",
    "states = ['Noun', 'Verb', 'Adjective']\n",
    "observations = ['I', 'eat', 'an', 'apple']\n",
    "\n",
    "start_probability = {'Noun': 0.3, 'Verb': 0.2, 'Adjective': 0.5}\n",
    "\n",
    "transition_probability = {\n",
    "    'Noun': {'Noun': 0.2, 'Verb': 0.5, 'Adjective': 0.3},\n",
    "    'Verb': {'Noun': 0.4, 'Verb': 0.1, 'Adjective': 0.5},\n",
    "    'Adjective': {'Noun': 0.1, 'Verb': 0.6, 'Adjective': 0.3}\n",
    "}\n",
    "\n",
    "emission_probability = {\n",
    "    'Noun': {'I': 0.3, 'eat': 0.1, 'an': 0.4, 'apple': 0.2},\n",
    "    'Verb': {'I': 0.1, 'eat': 0.4, 'an': 0.2, 'apple': 0.3},\n",
    "    'Adjective': {'I': 0.4, 'eat': 0.2, 'an': 0.3, 'apple': 0.1}\n",
    "}\n",
    "\n",
    "# Perform Viterbi algorithm for POS tagging\n",
    "tag_sequence, max_probability = viterbi(observations, states, start_probability, transition_probability, emission_probability)\n",
    "\n",
    "print(\"Most likely POS sequence:\", tag_sequence)\n",
    "print(\"Maximum probability:\", max_probability)\n",
    "\n"
   ]
  },
  {
   "cell_type": "code",
   "execution_count": null,
   "id": "4e25a657",
   "metadata": {},
   "outputs": [],
   "source": []
  }
 ],
 "metadata": {
  "kernelspec": {
   "display_name": "Python 3 (ipykernel)",
   "language": "python",
   "name": "python3"
  },
  "language_info": {
   "codemirror_mode": {
    "name": "ipython",
    "version": 3
   },
   "file_extension": ".py",
   "mimetype": "text/x-python",
   "name": "python",
   "nbconvert_exporter": "python",
   "pygments_lexer": "ipython3",
   "version": "3.10.4"
  }
 },
 "nbformat": 4,
 "nbformat_minor": 5
}
