{
 "cells": [
  {
   "cell_type": "code",
   "execution_count": 1,
   "id": "b4694776",
   "metadata": {},
   "outputs": [
    {
     "name": "stdout",
     "output_type": "stream",
     "text": [
      "Overwriting index.html\n"
     ]
    }
   ],
   "source": [
    "%%writefile index.html\n",
    "<!DOCTYPE html>\n",
    "<html lang=\"en\">\n",
    "<head>\n",
    "    <meta charset=\"UTF-8\">\n",
    "    <meta name=\"viewport\" content=\"width=device-width, initial-scale=1.0\">\n",
    "    <title>NLP Interface</title>\n",
    "</head>\n",
    "<body>\n",
    "    <h1>NLP Interface</h1>\n",
    "    <form id=\"nlpForm\">\n",
    "        <textarea id=\"textInput\" rows=\"4\" cols=\"50\"></textarea><br>\n",
    "        <button type=\"button\" onclick=\"analyzeText()\">Analyze</button>\n",
    "    </form>\n",
    "    <div id=\"result\"></div>\n",
    "    <script>\n",
    "        function analyzeText() {\n",
    "            var text = document.getElementById('textInput').value;\n",
    "            fetch('/analyze', {\n",
    "                method: 'POST',\n",
    "                headers: {\n",
    "                    'Content-Type': 'application/x-www-form-urlencoded'\n",
    "                },\n",
    "                body: 'text=' + encodeURIComponent(text)\n",
    "            })\n",
    "            .then(response => response.json())\n",
    "            .then(data => {\n",
    "                document.getElementById('result').innerHTML = JSON.stringify(data, null, 2);\n",
    "            })\n",
    "            .catch(error => console.error('Error:', error));\n",
    "        }\n",
    "    </script>\n",
    "</body>\n",
    "</html>\n"
   ]
  },
  {
   "cell_type": "code",
   "execution_count": null,
   "id": "1ffa3de4",
   "metadata": {},
   "outputs": [],
   "source": [
    "from flask import Flask, render_template, request, jsonify\n",
    "from flask_ngrok import run_with_ngrok\n",
    "\n",
    "# Create Flask app\n",
    "app = Flask(__name__)\n",
    "run_with_ngrok(app)  # Start ngrok when app is run\n",
    "\n",
    "# Example NLP function\n",
    "def analyze_text(text):\n",
    "    words = word_tokenize(text)\n",
    "    pos_tags = pos_tag(words)\n",
    "    return {\"input\": text, \"pos_tags\": pos_tags}\n",
    "\n",
    "# Define routes\n",
    "@app.route('/')\n",
    "def index():\n",
    "    return render_template('index.html')\n",
    "\n",
    "@app.route('/analyze', methods=['POST'])\n",
    "def analyze():\n",
    "    if request.method == 'POST':\n",
    "        text = request.form['text']\n",
    "        result = analyze_text(text)\n",
    "        return jsonify(result)\n",
    "\n",
    "# Run the app\n",
    "if __name__ == '__main__':\n",
    "    app.run()\n"
   ]
  }
 ],
 "metadata": {
  "kernelspec": {
   "display_name": "Python 3 (ipykernel)",
   "language": "python",
   "name": "python3"
  },
  "language_info": {
   "codemirror_mode": {
    "name": "ipython",
    "version": 3
   },
   "file_extension": ".py",
   "mimetype": "text/x-python",
   "name": "python",
   "nbconvert_exporter": "python",
   "pygments_lexer": "ipython3",
   "version": "3.10.4"
  }
 },
 "nbformat": 4,
 "nbformat_minor": 5
}
