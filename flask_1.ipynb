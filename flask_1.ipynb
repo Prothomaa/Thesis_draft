{
 "cells": [
  {
   "cell_type": "code",
   "execution_count": 1,
   "id": "6c632b5a",
   "metadata": {},
   "outputs": [
    {
     "name": "stdout",
     "output_type": "stream",
     "text": [
      " * Serving Flask app '__main__'\n",
      " * Debug mode: off\n"
     ]
    },
    {
     "name": "stderr",
     "output_type": "stream",
     "text": [
      "WARNING: This is a development server. Do not use it in a production deployment. Use a production WSGI server instead.\n",
      " * Running on http://127.0.0.1:5000\n",
      "Press CTRL+C to quit\n",
      "127.0.0.1 - - [13/Feb/2024 19:31:51] \"GET / HTTP/1.1\" 200 -\n",
      "127.0.0.1 - - [13/Feb/2024 19:31:55] \"GET /html HTTP/1.1\" 200 -\n",
      "127.0.0.1 - - [13/Feb/2024 19:31:57] \"GET /html HTTP/1.1\" 200 -\n",
      "127.0.0.1 - - [13/Feb/2024 19:32:00] \"POST /submit HTTP/1.1\" 200 -\n"
     ]
    }
   ],
   "source": [
    "from flask import Flask, render_template, request\n",
    "\n",
    "app = Flask(__name__)\n",
    "\n",
    "@app.route(\"/\")\n",
    "def hello():\n",
    "    return 'vaaaag!shalaa'\n",
    "@app.route(\"/html\")\n",
    "def html():\n",
    "    return render_template(\"new.html\")\n",
    "\n",
    "@app.route(\"/submit\", methods=['POST','GET'])\n",
    "def submit():\n",
    "    if request.method == 'POST':\n",
    "        user = request.form['user_input']\n",
    "        return \"Sentence entered done by POST method\"\n",
    "    else:\n",
    "        user = request.args.get['user_input']\n",
    "        return \"Sentence entered done by GET method\"\n",
    "    \n",
    "\n",
    "\n",
    "if __name__ == '__main__':\n",
    "    #from flask_ngrok import run_with_ngrok\n",
    "    #run_with_ngrok(app)\n",
    "    #app.run(debug = True)\n",
    "    app.run()\n"
   ]
  },
  {
   "cell_type": "code",
   "execution_count": null,
   "id": "8c684e91",
   "metadata": {},
   "outputs": [],
   "source": []
  }
 ],
 "metadata": {
  "kernelspec": {
   "display_name": "Python 3 (ipykernel)",
   "language": "python",
   "name": "python3"
  },
  "language_info": {
   "codemirror_mode": {
    "name": "ipython",
    "version": 3
   },
   "file_extension": ".py",
   "mimetype": "text/x-python",
   "name": "python",
   "nbconvert_exporter": "python",
   "pygments_lexer": "ipython3",
   "version": "3.10.4"
  }
 },
 "nbformat": 4,
 "nbformat_minor": 5
}
